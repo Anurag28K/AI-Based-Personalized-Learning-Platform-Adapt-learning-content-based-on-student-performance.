{
  "nbformat": 4,
  "nbformat_minor": 0,
  "metadata": {
    "colab": {
      "provenance": [],
      "gpuType": "T4"
    },
    "kernelspec": {
      "name": "python3",
      "display_name": "Python 3"
    },
    "language_info": {
      "name": "python"
    },
    "accelerator": "GPU"
  },
  "cells": [
    {
      "cell_type": "markdown",
      "source": [
        "##**Import Required Libraries**"
      ],
      "metadata": {
        "id": "GxU6kgjE0i4U"
      }
    },
    {
      "cell_type": "code",
      "execution_count": null,
      "metadata": {
        "id": "JEphK346ctFv"
      },
      "outputs": [],
      "source": [
        "# Step 1: Import necessary libraries\n",
        "import pandas as pd\n",
        "import numpy as np\n",
        "import torch\n",
        "import torch.nn as nn\n",
        "import torch.optim as optim\n",
        "from sklearn.model_selection import train_test_split\n",
        "from sklearn.preprocessing import LabelEncoder, StandardScaler\n",
        "from sklearn.preprocessing import LabelEncoder"
      ]
    },
    {
      "cell_type": "markdown",
      "source": [
        "This imports libraries for data manipulation (pandas, numpy), machine learning preprocessing (sklearn), and deep learning (PyTorch)."
      ],
      "metadata": {
        "id": "FpUhr7b65LJM"
      }
    },
    {
      "cell_type": "markdown",
      "source": [
        "##**Load the Dataset**"
      ],
      "metadata": {
        "id": "u-DhMJBB0sWt"
      }
    },
    {
      "cell_type": "code",
      "source": [
        "# Step 2: Load your dataset\n",
        "df = pd.read_csv('/content/youtube_khan_academy.csv')"
      ],
      "metadata": {
        "id": "AzrN78WPdS8-"
      },
      "execution_count": null,
      "outputs": []
    },
    {
      "cell_type": "markdown",
      "source": [
        "Loads the dataset containing YouTube video metadata related to Khan Academy."
      ],
      "metadata": {
        "id": "fsOdEWrg5f8B"
      }
    },
    {
      "cell_type": "markdown",
      "source": [
        "##**Explore the Dataset**"
      ],
      "metadata": {
        "id": "vUko8hWW5iOz"
      }
    },
    {
      "cell_type": "code",
      "source": [
        "df.head()"
      ],
      "metadata": {
        "colab": {
          "base_uri": "https://localhost:8080/",
          "height": 724
        },
        "id": "862LE3_Dda2k",
        "outputId": "b09c249d-01e2-4aaf-f89b-4c328e25e855"
      },
      "execution_count": null,
      "outputs": [
        {
          "output_type": "execute_result",
          "data": {
            "text/plain": [
              "  channel_title      videoId  \\\n",
              "0  Khan Academy  G5FVxAzlmfM   \n",
              "1  Khan Academy  78Sg3RdEPVk   \n",
              "2  Khan Academy  9rRlLPx6w7M   \n",
              "3  Khan Academy  VdAl4QK4-0Q   \n",
              "4  Khan Academy  SttbEmGj9uM   \n",
              "\n",
              "                                               title  title_word_count  \\\n",
              "0  Weak acid–weak base reactions | Acids and base...                14   \n",
              "1  Weak base–strong acid reactions | Acids and ba...                14   \n",
              "2  Worked example: Calculating the pH after a wea...                13   \n",
              "3  Weak acid–strong base reactions | Acids and ba...                14   \n",
              "4  Strong acid–strong base reactions | Acids and ...                14   \n",
              "\n",
              "           published_at  date_diff  view_count  like_count  dislike_count  \\\n",
              "0  2021-08-11T00:42:40Z          3        6444          77              3   \n",
              "1  2021-08-11T00:45:12Z          3        2089          26              0   \n",
              "2  2021-08-11T00:47:08Z          3        1646          33              0   \n",
              "3  2021-08-11T00:40:00Z          3        2507          87              2   \n",
              "4  2021-08-11T00:36:37Z          3        2479          48              0   \n",
              "\n",
              "   reaction_total  ...  desc_coleman_liau_index  \\\n",
              "0              80  ...                    19.73   \n",
              "1              26  ...                    18.22   \n",
              "2              33  ...                    23.09   \n",
              "3              89  ...                    18.10   \n",
              "4              48  ...                    19.38   \n",
              "\n",
              "   desc_automated_readability_index  desc_dale_chall_readability_score  \\\n",
              "0                              22.4                               9.14   \n",
              "1                              20.0                               8.71   \n",
              "2                              24.3                               9.76   \n",
              "3                              19.9                               8.71   \n",
              "4                              21.0                               8.94   \n",
              "\n",
              "   desc_difficult_words  desc_linsear_write_formula  desc_gunning_fog  \\\n",
              "0                    51                        16.5             14.65   \n",
              "1                    53                        13.2             13.50   \n",
              "2                    53                        14.2             14.79   \n",
              "3                    53                        13.2             13.50   \n",
              "4                    50                        13.4             13.38   \n",
              "\n",
              "    desc_text_standard  publish_year publish_week_month  \\\n",
              "0  14th and 15th grade          2021             Aug-21   \n",
              "1  13th and 14th grade          2021             Aug-21   \n",
              "2  14th and 15th grade          2021             Aug-21   \n",
              "3  13th and 14th grade          2021             Aug-21   \n",
              "4  13th and 14th grade          2021             Aug-21   \n",
              "\n",
              "  publish_week_start_date  \n",
              "0              09/08/2021  \n",
              "1              09/08/2021  \n",
              "2              09/08/2021  \n",
              "3              09/08/2021  \n",
              "4              09/08/2021  \n",
              "\n",
              "[5 rows x 58 columns]"
            ],
            "text/html": [
              "\n",
              "  <div id=\"df-750ebf5d-4c9f-47c6-a78e-dfdb01ce5e54\" class=\"colab-df-container\">\n",
              "    <div>\n",
              "<style scoped>\n",
              "    .dataframe tbody tr th:only-of-type {\n",
              "        vertical-align: middle;\n",
              "    }\n",
              "\n",
              "    .dataframe tbody tr th {\n",
              "        vertical-align: top;\n",
              "    }\n",
              "\n",
              "    .dataframe thead th {\n",
              "        text-align: right;\n",
              "    }\n",
              "</style>\n",
              "<table border=\"1\" class=\"dataframe\">\n",
              "  <thead>\n",
              "    <tr style=\"text-align: right;\">\n",
              "      <th></th>\n",
              "      <th>channel_title</th>\n",
              "      <th>videoId</th>\n",
              "      <th>title</th>\n",
              "      <th>title_word_count</th>\n",
              "      <th>published_at</th>\n",
              "      <th>date_diff</th>\n",
              "      <th>view_count</th>\n",
              "      <th>like_count</th>\n",
              "      <th>dislike_count</th>\n",
              "      <th>reaction_total</th>\n",
              "      <th>...</th>\n",
              "      <th>desc_coleman_liau_index</th>\n",
              "      <th>desc_automated_readability_index</th>\n",
              "      <th>desc_dale_chall_readability_score</th>\n",
              "      <th>desc_difficult_words</th>\n",
              "      <th>desc_linsear_write_formula</th>\n",
              "      <th>desc_gunning_fog</th>\n",
              "      <th>desc_text_standard</th>\n",
              "      <th>publish_year</th>\n",
              "      <th>publish_week_month</th>\n",
              "      <th>publish_week_start_date</th>\n",
              "    </tr>\n",
              "  </thead>\n",
              "  <tbody>\n",
              "    <tr>\n",
              "      <th>0</th>\n",
              "      <td>Khan Academy</td>\n",
              "      <td>G5FVxAzlmfM</td>\n",
              "      <td>Weak acid–weak base reactions | Acids and base...</td>\n",
              "      <td>14</td>\n",
              "      <td>2021-08-11T00:42:40Z</td>\n",
              "      <td>3</td>\n",
              "      <td>6444</td>\n",
              "      <td>77</td>\n",
              "      <td>3</td>\n",
              "      <td>80</td>\n",
              "      <td>...</td>\n",
              "      <td>19.73</td>\n",
              "      <td>22.4</td>\n",
              "      <td>9.14</td>\n",
              "      <td>51</td>\n",
              "      <td>16.5</td>\n",
              "      <td>14.65</td>\n",
              "      <td>14th and 15th grade</td>\n",
              "      <td>2021</td>\n",
              "      <td>Aug-21</td>\n",
              "      <td>09/08/2021</td>\n",
              "    </tr>\n",
              "    <tr>\n",
              "      <th>1</th>\n",
              "      <td>Khan Academy</td>\n",
              "      <td>78Sg3RdEPVk</td>\n",
              "      <td>Weak base–strong acid reactions | Acids and ba...</td>\n",
              "      <td>14</td>\n",
              "      <td>2021-08-11T00:45:12Z</td>\n",
              "      <td>3</td>\n",
              "      <td>2089</td>\n",
              "      <td>26</td>\n",
              "      <td>0</td>\n",
              "      <td>26</td>\n",
              "      <td>...</td>\n",
              "      <td>18.22</td>\n",
              "      <td>20.0</td>\n",
              "      <td>8.71</td>\n",
              "      <td>53</td>\n",
              "      <td>13.2</td>\n",
              "      <td>13.50</td>\n",
              "      <td>13th and 14th grade</td>\n",
              "      <td>2021</td>\n",
              "      <td>Aug-21</td>\n",
              "      <td>09/08/2021</td>\n",
              "    </tr>\n",
              "    <tr>\n",
              "      <th>2</th>\n",
              "      <td>Khan Academy</td>\n",
              "      <td>9rRlLPx6w7M</td>\n",
              "      <td>Worked example: Calculating the pH after a wea...</td>\n",
              "      <td>13</td>\n",
              "      <td>2021-08-11T00:47:08Z</td>\n",
              "      <td>3</td>\n",
              "      <td>1646</td>\n",
              "      <td>33</td>\n",
              "      <td>0</td>\n",
              "      <td>33</td>\n",
              "      <td>...</td>\n",
              "      <td>23.09</td>\n",
              "      <td>24.3</td>\n",
              "      <td>9.76</td>\n",
              "      <td>53</td>\n",
              "      <td>14.2</td>\n",
              "      <td>14.79</td>\n",
              "      <td>14th and 15th grade</td>\n",
              "      <td>2021</td>\n",
              "      <td>Aug-21</td>\n",
              "      <td>09/08/2021</td>\n",
              "    </tr>\n",
              "    <tr>\n",
              "      <th>3</th>\n",
              "      <td>Khan Academy</td>\n",
              "      <td>VdAl4QK4-0Q</td>\n",
              "      <td>Weak acid–strong base reactions | Acids and ba...</td>\n",
              "      <td>14</td>\n",
              "      <td>2021-08-11T00:40:00Z</td>\n",
              "      <td>3</td>\n",
              "      <td>2507</td>\n",
              "      <td>87</td>\n",
              "      <td>2</td>\n",
              "      <td>89</td>\n",
              "      <td>...</td>\n",
              "      <td>18.10</td>\n",
              "      <td>19.9</td>\n",
              "      <td>8.71</td>\n",
              "      <td>53</td>\n",
              "      <td>13.2</td>\n",
              "      <td>13.50</td>\n",
              "      <td>13th and 14th grade</td>\n",
              "      <td>2021</td>\n",
              "      <td>Aug-21</td>\n",
              "      <td>09/08/2021</td>\n",
              "    </tr>\n",
              "    <tr>\n",
              "      <th>4</th>\n",
              "      <td>Khan Academy</td>\n",
              "      <td>SttbEmGj9uM</td>\n",
              "      <td>Strong acid–strong base reactions | Acids and ...</td>\n",
              "      <td>14</td>\n",
              "      <td>2021-08-11T00:36:37Z</td>\n",
              "      <td>3</td>\n",
              "      <td>2479</td>\n",
              "      <td>48</td>\n",
              "      <td>0</td>\n",
              "      <td>48</td>\n",
              "      <td>...</td>\n",
              "      <td>19.38</td>\n",
              "      <td>21.0</td>\n",
              "      <td>8.94</td>\n",
              "      <td>50</td>\n",
              "      <td>13.4</td>\n",
              "      <td>13.38</td>\n",
              "      <td>13th and 14th grade</td>\n",
              "      <td>2021</td>\n",
              "      <td>Aug-21</td>\n",
              "      <td>09/08/2021</td>\n",
              "    </tr>\n",
              "  </tbody>\n",
              "</table>\n",
              "<p>5 rows × 58 columns</p>\n",
              "</div>\n",
              "    <div class=\"colab-df-buttons\">\n",
              "\n",
              "  <div class=\"colab-df-container\">\n",
              "    <button class=\"colab-df-convert\" onclick=\"convertToInteractive('df-750ebf5d-4c9f-47c6-a78e-dfdb01ce5e54')\"\n",
              "            title=\"Convert this dataframe to an interactive table.\"\n",
              "            style=\"display:none;\">\n",
              "\n",
              "  <svg xmlns=\"http://www.w3.org/2000/svg\" height=\"24px\" viewBox=\"0 -960 960 960\">\n",
              "    <path d=\"M120-120v-720h720v720H120Zm60-500h600v-160H180v160Zm220 220h160v-160H400v160Zm0 220h160v-160H400v160ZM180-400h160v-160H180v160Zm440 0h160v-160H620v160ZM180-180h160v-160H180v160Zm440 0h160v-160H620v160Z\"/>\n",
              "  </svg>\n",
              "    </button>\n",
              "\n",
              "  <style>\n",
              "    .colab-df-container {\n",
              "      display:flex;\n",
              "      gap: 12px;\n",
              "    }\n",
              "\n",
              "    .colab-df-convert {\n",
              "      background-color: #E8F0FE;\n",
              "      border: none;\n",
              "      border-radius: 50%;\n",
              "      cursor: pointer;\n",
              "      display: none;\n",
              "      fill: #1967D2;\n",
              "      height: 32px;\n",
              "      padding: 0 0 0 0;\n",
              "      width: 32px;\n",
              "    }\n",
              "\n",
              "    .colab-df-convert:hover {\n",
              "      background-color: #E2EBFA;\n",
              "      box-shadow: 0px 1px 2px rgba(60, 64, 67, 0.3), 0px 1px 3px 1px rgba(60, 64, 67, 0.15);\n",
              "      fill: #174EA6;\n",
              "    }\n",
              "\n",
              "    .colab-df-buttons div {\n",
              "      margin-bottom: 4px;\n",
              "    }\n",
              "\n",
              "    [theme=dark] .colab-df-convert {\n",
              "      background-color: #3B4455;\n",
              "      fill: #D2E3FC;\n",
              "    }\n",
              "\n",
              "    [theme=dark] .colab-df-convert:hover {\n",
              "      background-color: #434B5C;\n",
              "      box-shadow: 0px 1px 3px 1px rgba(0, 0, 0, 0.15);\n",
              "      filter: drop-shadow(0px 1px 2px rgba(0, 0, 0, 0.3));\n",
              "      fill: #FFFFFF;\n",
              "    }\n",
              "  </style>\n",
              "\n",
              "    <script>\n",
              "      const buttonEl =\n",
              "        document.querySelector('#df-750ebf5d-4c9f-47c6-a78e-dfdb01ce5e54 button.colab-df-convert');\n",
              "      buttonEl.style.display =\n",
              "        google.colab.kernel.accessAllowed ? 'block' : 'none';\n",
              "\n",
              "      async function convertToInteractive(key) {\n",
              "        const element = document.querySelector('#df-750ebf5d-4c9f-47c6-a78e-dfdb01ce5e54');\n",
              "        const dataTable =\n",
              "          await google.colab.kernel.invokeFunction('convertToInteractive',\n",
              "                                                    [key], {});\n",
              "        if (!dataTable) return;\n",
              "\n",
              "        const docLinkHtml = 'Like what you see? Visit the ' +\n",
              "          '<a target=\"_blank\" href=https://colab.research.google.com/notebooks/data_table.ipynb>data table notebook</a>'\n",
              "          + ' to learn more about interactive tables.';\n",
              "        element.innerHTML = '';\n",
              "        dataTable['output_type'] = 'display_data';\n",
              "        await google.colab.output.renderOutput(dataTable, element);\n",
              "        const docLink = document.createElement('div');\n",
              "        docLink.innerHTML = docLinkHtml;\n",
              "        element.appendChild(docLink);\n",
              "      }\n",
              "    </script>\n",
              "  </div>\n",
              "\n",
              "\n",
              "<div id=\"df-4d8647d3-5f67-403e-a9fa-4349913623de\">\n",
              "  <button class=\"colab-df-quickchart\" onclick=\"quickchart('df-4d8647d3-5f67-403e-a9fa-4349913623de')\"\n",
              "            title=\"Suggest charts\"\n",
              "            style=\"display:none;\">\n",
              "\n",
              "<svg xmlns=\"http://www.w3.org/2000/svg\" height=\"24px\"viewBox=\"0 0 24 24\"\n",
              "     width=\"24px\">\n",
              "    <g>\n",
              "        <path d=\"M19 3H5c-1.1 0-2 .9-2 2v14c0 1.1.9 2 2 2h14c1.1 0 2-.9 2-2V5c0-1.1-.9-2-2-2zM9 17H7v-7h2v7zm4 0h-2V7h2v10zm4 0h-2v-4h2v4z\"/>\n",
              "    </g>\n",
              "</svg>\n",
              "  </button>\n",
              "\n",
              "<style>\n",
              "  .colab-df-quickchart {\n",
              "      --bg-color: #E8F0FE;\n",
              "      --fill-color: #1967D2;\n",
              "      --hover-bg-color: #E2EBFA;\n",
              "      --hover-fill-color: #174EA6;\n",
              "      --disabled-fill-color: #AAA;\n",
              "      --disabled-bg-color: #DDD;\n",
              "  }\n",
              "\n",
              "  [theme=dark] .colab-df-quickchart {\n",
              "      --bg-color: #3B4455;\n",
              "      --fill-color: #D2E3FC;\n",
              "      --hover-bg-color: #434B5C;\n",
              "      --hover-fill-color: #FFFFFF;\n",
              "      --disabled-bg-color: #3B4455;\n",
              "      --disabled-fill-color: #666;\n",
              "  }\n",
              "\n",
              "  .colab-df-quickchart {\n",
              "    background-color: var(--bg-color);\n",
              "    border: none;\n",
              "    border-radius: 50%;\n",
              "    cursor: pointer;\n",
              "    display: none;\n",
              "    fill: var(--fill-color);\n",
              "    height: 32px;\n",
              "    padding: 0;\n",
              "    width: 32px;\n",
              "  }\n",
              "\n",
              "  .colab-df-quickchart:hover {\n",
              "    background-color: var(--hover-bg-color);\n",
              "    box-shadow: 0 1px 2px rgba(60, 64, 67, 0.3), 0 1px 3px 1px rgba(60, 64, 67, 0.15);\n",
              "    fill: var(--button-hover-fill-color);\n",
              "  }\n",
              "\n",
              "  .colab-df-quickchart-complete:disabled,\n",
              "  .colab-df-quickchart-complete:disabled:hover {\n",
              "    background-color: var(--disabled-bg-color);\n",
              "    fill: var(--disabled-fill-color);\n",
              "    box-shadow: none;\n",
              "  }\n",
              "\n",
              "  .colab-df-spinner {\n",
              "    border: 2px solid var(--fill-color);\n",
              "    border-color: transparent;\n",
              "    border-bottom-color: var(--fill-color);\n",
              "    animation:\n",
              "      spin 1s steps(1) infinite;\n",
              "  }\n",
              "\n",
              "  @keyframes spin {\n",
              "    0% {\n",
              "      border-color: transparent;\n",
              "      border-bottom-color: var(--fill-color);\n",
              "      border-left-color: var(--fill-color);\n",
              "    }\n",
              "    20% {\n",
              "      border-color: transparent;\n",
              "      border-left-color: var(--fill-color);\n",
              "      border-top-color: var(--fill-color);\n",
              "    }\n",
              "    30% {\n",
              "      border-color: transparent;\n",
              "      border-left-color: var(--fill-color);\n",
              "      border-top-color: var(--fill-color);\n",
              "      border-right-color: var(--fill-color);\n",
              "    }\n",
              "    40% {\n",
              "      border-color: transparent;\n",
              "      border-right-color: var(--fill-color);\n",
              "      border-top-color: var(--fill-color);\n",
              "    }\n",
              "    60% {\n",
              "      border-color: transparent;\n",
              "      border-right-color: var(--fill-color);\n",
              "    }\n",
              "    80% {\n",
              "      border-color: transparent;\n",
              "      border-right-color: var(--fill-color);\n",
              "      border-bottom-color: var(--fill-color);\n",
              "    }\n",
              "    90% {\n",
              "      border-color: transparent;\n",
              "      border-bottom-color: var(--fill-color);\n",
              "    }\n",
              "  }\n",
              "</style>\n",
              "\n",
              "  <script>\n",
              "    async function quickchart(key) {\n",
              "      const quickchartButtonEl =\n",
              "        document.querySelector('#' + key + ' button');\n",
              "      quickchartButtonEl.disabled = true;  // To prevent multiple clicks.\n",
              "      quickchartButtonEl.classList.add('colab-df-spinner');\n",
              "      try {\n",
              "        const charts = await google.colab.kernel.invokeFunction(\n",
              "            'suggestCharts', [key], {});\n",
              "      } catch (error) {\n",
              "        console.error('Error during call to suggestCharts:', error);\n",
              "      }\n",
              "      quickchartButtonEl.classList.remove('colab-df-spinner');\n",
              "      quickchartButtonEl.classList.add('colab-df-quickchart-complete');\n",
              "    }\n",
              "    (() => {\n",
              "      let quickchartButtonEl =\n",
              "        document.querySelector('#df-4d8647d3-5f67-403e-a9fa-4349913623de button');\n",
              "      quickchartButtonEl.style.display =\n",
              "        google.colab.kernel.accessAllowed ? 'block' : 'none';\n",
              "    })();\n",
              "  </script>\n",
              "</div>\n",
              "\n",
              "    </div>\n",
              "  </div>\n"
            ],
            "application/vnd.google.colaboratory.intrinsic+json": {
              "type": "dataframe",
              "variable_name": "df"
            }
          },
          "metadata": {},
          "execution_count": 3
        }
      ]
    },
    {
      "cell_type": "markdown",
      "source": [
        "Loads the dataset containing YouTube video metadata related to Khan Academy."
      ],
      "metadata": {
        "id": "nu775szp5Yfn"
      }
    },
    {
      "cell_type": "code",
      "source": [
        "df.columns"
      ],
      "metadata": {
        "colab": {
          "base_uri": "https://localhost:8080/"
        },
        "id": "dCJcVGsUdd2Z",
        "outputId": "6ecda19d-01cf-4d39-b38f-590180f172df"
      },
      "execution_count": null,
      "outputs": [
        {
          "output_type": "execute_result",
          "data": {
            "text/plain": [
              "Index(['channel_title', 'videoId', 'title', 'title_word_count', 'published_at',\n",
              "       'date_diff', 'view_count', 'like_count', 'dislike_count',\n",
              "       'reaction_total', 'like_dislike_diff', 'like_percentage',\n",
              "       'dislike_percentage', 'favorite_count', 'views_per_day',\n",
              "       'comment_count', 'tokenized', 'live_broadcast_content', 'url',\n",
              "       'description', 'description_word_count', 'tokenized_description',\n",
              "       'duration', 'aspect_ratio', 'extract_date', 'channel_id',\n",
              "       'channel_view_count', 'channel_subscriber_count', 'channel_video_count',\n",
              "       'title_sentiment_polarity', 'title_sentiment_subjectivity',\n",
              "       'description_sentiment_polarity', 'description_sentiment_subjectivity',\n",
              "       'diff_sentiment_polarity', 'diff_sentiment_subjectivity',\n",
              "       'title_flesch_reading_ease', 'title_smog_index',\n",
              "       'title_flesch_kincaid_grade', 'title_coleman_liau_index',\n",
              "       'title_automated_readability_index',\n",
              "       'title_dale_chall_readability_score', 'title_difficult_words',\n",
              "       'title_linsear_write_formula', 'title_gunning_fog',\n",
              "       'title_text_standard', 'desc_flesch_reading_ease', 'desc_smog_index',\n",
              "       'desc_flesch_kincaid_grade', 'desc_coleman_liau_index',\n",
              "       'desc_automated_readability_index', 'desc_dale_chall_readability_score',\n",
              "       'desc_difficult_words', 'desc_linsear_write_formula',\n",
              "       'desc_gunning_fog', 'desc_text_standard', 'publish_year',\n",
              "       'publish_week_month', 'publish_week_start_date'],\n",
              "      dtype='object')"
            ]
          },
          "metadata": {},
          "execution_count": 4
        }
      ]
    },
    {
      "cell_type": "markdown",
      "source": [
        "Displays the first few rows and all column names to understand the data structure.\n"
      ],
      "metadata": {
        "id": "Lqd2LmBi5rGA"
      }
    },
    {
      "cell_type": "markdown",
      "source": [
        "##**Select and Clean Features**"
      ],
      "metadata": {
        "id": "H-5RDiMw02Mp"
      }
    },
    {
      "cell_type": "code",
      "source": [
        "selected_features = [\n",
        "    'view_count', 'like_count', 'dislike_count', 'reaction_total',\n",
        "    'like_dislike_diff', 'like_percentage', 'dislike_percentage',\n",
        "    'comment_count', 'channel_view_count', 'channel_subscriber_count',\n",
        "    'channel_video_count', 'title_sentiment_polarity',\n",
        "    'description_sentiment_polarity', 'title_flesch_reading_ease',\n",
        "    'title_smog_index', 'title_flesch_kincaid_grade',\n",
        "    'desc_flesch_reading_ease', 'desc_smog_index', 'desc_flesch_kincaid_grade'\n",
        "]"
      ],
      "metadata": {
        "id": "IGjE5J6ndywP"
      },
      "execution_count": null,
      "outputs": []
    },
    {
      "cell_type": "code",
      "source": [
        "df = df[selected_features].dropna()"
      ],
      "metadata": {
        "id": "yrpfVxFndfqa"
      },
      "execution_count": null,
      "outputs": []
    },
    {
      "cell_type": "markdown",
      "source": [
        "Selects only important features for modeling and removes rows with missing values."
      ],
      "metadata": {
        "id": "RHVK4TZ25894"
      }
    },
    {
      "cell_type": "markdown",
      "source": [
        "##**Create target label**"
      ],
      "metadata": {
        "id": "ae6aGA0Y0-Ke"
      }
    },
    {
      "cell_type": "code",
      "source": [
        "def label_difficulty(views):\n",
        "    if views < 5000:\n",
        "        return 0  # remedial\n",
        "    elif views > 20000:\n",
        "        return 2  # advanced\n",
        "    else:\n",
        "        return 1  # standard\n",
        "\n",
        "df['label'] = df['view_count'].apply(label_difficulty)"
      ],
      "metadata": {
        "id": "dNUxCw9zdiZC"
      },
      "execution_count": null,
      "outputs": []
    },
    {
      "cell_type": "markdown",
      "source": [
        "Converts view_count into categorical difficulty levels (remedial, standard, advanced)."
      ],
      "metadata": {
        "id": "2RMGGWkP6JrU"
      }
    },
    {
      "cell_type": "markdown",
      "source": [
        "##**Prepare Inputs and Labels**"
      ],
      "metadata": {
        "id": "pk9obeBK1Gyu"
      }
    },
    {
      "cell_type": "code",
      "source": [
        "X = df[selected_features].values\n",
        "y = torch.tensor(df['label'].values, dtype=torch.long)"
      ],
      "metadata": {
        "id": "74bSZTSud2Az"
      },
      "execution_count": null,
      "outputs": []
    },
    {
      "cell_type": "markdown",
      "source": [
        "Separates the input features and labels for model training."
      ],
      "metadata": {
        "id": "pEKSDWYk6TLx"
      }
    },
    {
      "cell_type": "markdown",
      "source": [
        "##**`Feature Scaling`**"
      ],
      "metadata": {
        "id": "9u-yzn5W1KC1"
      }
    },
    {
      "cell_type": "code",
      "source": [
        "scaler = StandardScaler()\n",
        "X = torch.tensor(scaler.fit_transform(X), dtype=torch.float32)"
      ],
      "metadata": {
        "id": "y1WuYvHmd35Q"
      },
      "execution_count": null,
      "outputs": []
    },
    {
      "cell_type": "markdown",
      "source": [
        "Standardizes the input data to improve model performance."
      ],
      "metadata": {
        "id": "vKjd2tXu6Y5s"
      }
    },
    {
      "cell_type": "markdown",
      "source": [
        "##**Train-Test Split**"
      ],
      "metadata": {
        "id": "ssG2by2i1OFh"
      }
    },
    {
      "cell_type": "code",
      "source": [
        "X_train, X_test, y_train, y_test = train_test_split(X, y, test_size=0.2, random_state=42)"
      ],
      "metadata": {
        "id": "NJvh8OeTd5p_"
      },
      "execution_count": null,
      "outputs": []
    },
    {
      "cell_type": "markdown",
      "source": [
        "Splits the data into training and testing sets.\n"
      ],
      "metadata": {
        "id": "_UiCOojO6hwQ"
      }
    },
    {
      "cell_type": "markdown",
      "source": [
        "##**Define Neural Network Model**"
      ],
      "metadata": {
        "id": "FBwFS3iS1Z3H"
      }
    },
    {
      "cell_type": "code",
      "source": [
        "class YouTubeContentClassifier(nn.Module):\n",
        "    def __init__(self, input_dim):\n",
        "        super(YouTubeContentClassifier, self).__init__()\n",
        "        self.net = nn.Sequential(\n",
        "            nn.Linear(input_dim, 64),\n",
        "            nn.ReLU(),\n",
        "            nn.Linear(64, 32),\n",
        "            nn.ReLU(),\n",
        "            nn.Linear(32, 3)  # 3 classes\n",
        "        )\n",
        "\n",
        "    def forward(self, x):\n",
        "        return self.net(x)\n",
        "\n",
        "model = YouTubeContentClassifier(X.shape[1])"
      ],
      "metadata": {
        "id": "qlCb-vrSd8jr"
      },
      "execution_count": null,
      "outputs": []
    },
    {
      "cell_type": "markdown",
      "source": [
        "Creates a simple feed-forward neural network with 3 output classes (difficulty levels)."
      ],
      "metadata": {
        "id": "m9BLyzq11iLR"
      }
    },
    {
      "cell_type": "markdown",
      "source": [
        "##**Define Loss Function and Optimizer**"
      ],
      "metadata": {
        "id": "hzI_w97k1pD1"
      }
    },
    {
      "cell_type": "code",
      "source": [
        "criterion = nn.CrossEntropyLoss()\n",
        "optimizer = optim.Adam(model.parameters(), lr=0.001)"
      ],
      "metadata": {
        "id": "m66SJauXd-tB"
      },
      "execution_count": null,
      "outputs": []
    },
    {
      "cell_type": "markdown",
      "source": [
        "Sets up the loss function and optimization algorithm for training.\n",
        "\n"
      ],
      "metadata": {
        "id": "MY_YWjAw634B"
      }
    },
    {
      "cell_type": "markdown",
      "source": [
        "##**Train the model**"
      ],
      "metadata": {
        "id": "TmvkDlum1zt_"
      }
    },
    {
      "cell_type": "code",
      "source": [
        "\n",
        "for epoch in range(50):\n",
        "    optimizer.zero_grad()\n",
        "    output = model(X_train)\n",
        "    loss = criterion(output, y_train)\n",
        "    loss.backward()\n",
        "    optimizer.step()\n",
        "\n",
        "    if epoch % 10 == 0:\n",
        "        print(f\"Epoch {epoch}, Loss: {loss.item():.4f}\")"
      ],
      "metadata": {
        "colab": {
          "base_uri": "https://localhost:8080/"
        },
        "id": "jbB36OAWeAks",
        "outputId": "0968c75b-e653-4dd5-f47c-2a1b6b33363d"
      },
      "execution_count": null,
      "outputs": [
        {
          "output_type": "stream",
          "name": "stdout",
          "text": [
            "Epoch 0, Loss: 1.1696\n",
            "Epoch 10, Loss: 1.0486\n",
            "Epoch 20, Loss: 0.9265\n",
            "Epoch 30, Loss: 0.7889\n",
            "Epoch 40, Loss: 0.6737\n"
          ]
        }
      ]
    },
    {
      "cell_type": "markdown",
      "source": [
        "Trains the neural network using backpropagation over 50 epochs.\n",
        "\n"
      ],
      "metadata": {
        "id": "-LcIi3ko19Ax"
      }
    },
    {
      "cell_type": "markdown",
      "source": [
        "##**Evaluate the model**"
      ],
      "metadata": {
        "id": "p_LdKQVI1-Yl"
      }
    },
    {
      "cell_type": "code",
      "source": [
        "with torch.no_grad():\n",
        "    preds = model(X_test).argmax(dim=1)\n",
        "    accuracy = (preds == y_test).float().mean()\n",
        "    print(f\"Test Accuracy: {accuracy:.2f}\")"
      ],
      "metadata": {
        "colab": {
          "base_uri": "https://localhost:8080/"
        },
        "id": "I8ffOHNeeDC1",
        "outputId": "dc8cd37d-37cb-4b9a-becb-a753cd212c87"
      },
      "execution_count": null,
      "outputs": [
        {
          "output_type": "stream",
          "name": "stdout",
          "text": [
            "Test Accuracy: 0.77\n"
          ]
        }
      ]
    },
    {
      "cell_type": "markdown",
      "source": [
        "Evaluates the model performance on the test dataset.\n",
        "\n"
      ],
      "metadata": {
        "id": "MUAdWiJZ7Glr"
      }
    },
    {
      "cell_type": "markdown",
      "source": [
        "##**Prepare for User Input Simulation**"
      ],
      "metadata": {
        "id": "9IGizpab2PR1"
      }
    },
    {
      "cell_type": "code",
      "source": [
        "# Simulate new student input\n",
        "new_score = 72  # Example score\n",
        "new_time_spent = 15  # in minutes\n",
        "new_topic = 'Algebra'"
      ],
      "metadata": {
        "id": "qEvWKslFeFB2"
      },
      "execution_count": null,
      "outputs": []
    },
    {
      "cell_type": "markdown",
      "source": [
        "Sets up simulated inputs to test personalized learning recommendations.\n",
        "\n"
      ],
      "metadata": {
        "id": "HmxJ8khO7OfC"
      }
    },
    {
      "cell_type": "markdown",
      "source": [
        "##**Encode New Topic Input**"
      ],
      "metadata": {
        "id": "q9x11bGm7T0a"
      }
    },
    {
      "cell_type": "code",
      "source": [
        "# Step 1: Load dataset\n",
        "df = pd.read_csv(\"/content/youtube_khan_academy.csv\")  # Make sure the path is correct\n",
        "\n",
        "# Step 2: Fit LabelEncoder on 'topic' column (assuming 'topic' = title or some other column)\n",
        "# 👉 You can change 'topic_column' to the actual name like 'title', 'channel_title', etc.\n",
        "topic_column = 'title'  # Change this to whichever column you're treating as topic\n",
        "le = LabelEncoder()\n",
        "df['topic_encoded'] = le.fit_transform(df[topic_column])\n",
        "\n",
        "# Step 3: Example new topic (user input or test case)\n",
        "new_topic = \"Introduction to Algebra\"  # Replace this with your actual new topic input\n",
        "\n",
        "# Step 4: Transform the new topic safely\n",
        "try:\n",
        "    new_topic_encoded = le.transform([new_topic])[0]\n",
        "    print(\"Encoded Topic:\", new_topic_encoded)\n",
        "except ValueError:\n",
        "    print(\"⚠️ Error: New topic not seen during training. Consider refitting encoder with new data.\")\n"
      ],
      "metadata": {
        "colab": {
          "base_uri": "https://localhost:8080/"
        },
        "id": "4jcFApkOeHvE",
        "outputId": "002dc5ff-83ee-4e87-b2d2-d8aa602f45a3"
      },
      "execution_count": null,
      "outputs": [
        {
          "output_type": "stream",
          "name": "stdout",
          "text": [
            "⚠️ Error: New topic not seen during training. Consider refitting encoder with new data.\n"
          ]
        }
      ]
    },
    {
      "cell_type": "markdown",
      "source": [
        "Encodes a new topic title using LabelEncoder, and handles unseen topics.\n",
        "\n"
      ],
      "metadata": {
        "id": "ASe0aHKd3kdo"
      }
    },
    {
      "cell_type": "markdown",
      "source": [
        "##**Setup for Web App (Streamlit)**"
      ],
      "metadata": {
        "id": "phnNtL_j7cjq"
      }
    },
    {
      "cell_type": "code",
      "source": [
        "!pip install streamlit pyngrok\n"
      ],
      "metadata": {
        "colab": {
          "base_uri": "https://localhost:8080/"
        },
        "id": "rIJVmOyCffig",
        "outputId": "f20715e5-cd20-497a-c3b1-1457b1f07e1a"
      },
      "execution_count": null,
      "outputs": [
        {
          "output_type": "stream",
          "name": "stdout",
          "text": [
            "Requirement already satisfied: streamlit in /usr/local/lib/python3.11/dist-packages (1.44.1)\n",
            "Requirement already satisfied: pyngrok in /usr/local/lib/python3.11/dist-packages (7.2.3)\n",
            "Requirement already satisfied: altair<6,>=4.0 in /usr/local/lib/python3.11/dist-packages (from streamlit) (5.5.0)\n",
            "Requirement already satisfied: blinker<2,>=1.0.0 in /usr/local/lib/python3.11/dist-packages (from streamlit) (1.9.0)\n",
            "Requirement already satisfied: cachetools<6,>=4.0 in /usr/local/lib/python3.11/dist-packages (from streamlit) (5.5.2)\n",
            "Requirement already satisfied: click<9,>=7.0 in /usr/local/lib/python3.11/dist-packages (from streamlit) (8.1.8)\n",
            "Requirement already satisfied: numpy<3,>=1.23 in /usr/local/lib/python3.11/dist-packages (from streamlit) (2.0.2)\n",
            "Requirement already satisfied: packaging<25,>=20 in /usr/local/lib/python3.11/dist-packages (from streamlit) (24.2)\n",
            "Requirement already satisfied: pandas<3,>=1.4.0 in /usr/local/lib/python3.11/dist-packages (from streamlit) (2.2.2)\n",
            "Requirement already satisfied: pillow<12,>=7.1.0 in /usr/local/lib/python3.11/dist-packages (from streamlit) (11.1.0)\n",
            "Requirement already satisfied: protobuf<6,>=3.20 in /usr/local/lib/python3.11/dist-packages (from streamlit) (5.29.4)\n",
            "Requirement already satisfied: pyarrow>=7.0 in /usr/local/lib/python3.11/dist-packages (from streamlit) (18.1.0)\n",
            "Requirement already satisfied: requests<3,>=2.27 in /usr/local/lib/python3.11/dist-packages (from streamlit) (2.32.3)\n",
            "Requirement already satisfied: tenacity<10,>=8.1.0 in /usr/local/lib/python3.11/dist-packages (from streamlit) (9.1.2)\n",
            "Requirement already satisfied: toml<2,>=0.10.1 in /usr/local/lib/python3.11/dist-packages (from streamlit) (0.10.2)\n",
            "Requirement already satisfied: typing-extensions<5,>=4.4.0 in /usr/local/lib/python3.11/dist-packages (from streamlit) (4.13.1)\n",
            "Requirement already satisfied: watchdog<7,>=2.1.5 in /usr/local/lib/python3.11/dist-packages (from streamlit) (6.0.0)\n",
            "Requirement already satisfied: gitpython!=3.1.19,<4,>=3.0.7 in /usr/local/lib/python3.11/dist-packages (from streamlit) (3.1.44)\n",
            "Requirement already satisfied: pydeck<1,>=0.8.0b4 in /usr/local/lib/python3.11/dist-packages (from streamlit) (0.9.1)\n",
            "Requirement already satisfied: tornado<7,>=6.0.3 in /usr/local/lib/python3.11/dist-packages (from streamlit) (6.4.2)\n",
            "Requirement already satisfied: PyYAML>=5.1 in /usr/local/lib/python3.11/dist-packages (from pyngrok) (6.0.2)\n",
            "Requirement already satisfied: jinja2 in /usr/local/lib/python3.11/dist-packages (from altair<6,>=4.0->streamlit) (3.1.6)\n",
            "Requirement already satisfied: jsonschema>=3.0 in /usr/local/lib/python3.11/dist-packages (from altair<6,>=4.0->streamlit) (4.23.0)\n",
            "Requirement already satisfied: narwhals>=1.14.2 in /usr/local/lib/python3.11/dist-packages (from altair<6,>=4.0->streamlit) (1.33.0)\n",
            "Requirement already satisfied: gitdb<5,>=4.0.1 in /usr/local/lib/python3.11/dist-packages (from gitpython!=3.1.19,<4,>=3.0.7->streamlit) (4.0.12)\n",
            "Requirement already satisfied: python-dateutil>=2.8.2 in /usr/local/lib/python3.11/dist-packages (from pandas<3,>=1.4.0->streamlit) (2.8.2)\n",
            "Requirement already satisfied: pytz>=2020.1 in /usr/local/lib/python3.11/dist-packages (from pandas<3,>=1.4.0->streamlit) (2025.2)\n",
            "Requirement already satisfied: tzdata>=2022.7 in /usr/local/lib/python3.11/dist-packages (from pandas<3,>=1.4.0->streamlit) (2025.2)\n",
            "Requirement already satisfied: charset-normalizer<4,>=2 in /usr/local/lib/python3.11/dist-packages (from requests<3,>=2.27->streamlit) (3.4.1)\n",
            "Requirement already satisfied: idna<4,>=2.5 in /usr/local/lib/python3.11/dist-packages (from requests<3,>=2.27->streamlit) (3.10)\n",
            "Requirement already satisfied: urllib3<3,>=1.21.1 in /usr/local/lib/python3.11/dist-packages (from requests<3,>=2.27->streamlit) (2.3.0)\n",
            "Requirement already satisfied: certifi>=2017.4.17 in /usr/local/lib/python3.11/dist-packages (from requests<3,>=2.27->streamlit) (2025.1.31)\n",
            "Requirement already satisfied: smmap<6,>=3.0.1 in /usr/local/lib/python3.11/dist-packages (from gitdb<5,>=4.0.1->gitpython!=3.1.19,<4,>=3.0.7->streamlit) (5.0.2)\n",
            "Requirement already satisfied: MarkupSafe>=2.0 in /usr/local/lib/python3.11/dist-packages (from jinja2->altair<6,>=4.0->streamlit) (3.0.2)\n",
            "Requirement already satisfied: attrs>=22.2.0 in /usr/local/lib/python3.11/dist-packages (from jsonschema>=3.0->altair<6,>=4.0->streamlit) (25.3.0)\n",
            "Requirement already satisfied: jsonschema-specifications>=2023.03.6 in /usr/local/lib/python3.11/dist-packages (from jsonschema>=3.0->altair<6,>=4.0->streamlit) (2024.10.1)\n",
            "Requirement already satisfied: referencing>=0.28.4 in /usr/local/lib/python3.11/dist-packages (from jsonschema>=3.0->altair<6,>=4.0->streamlit) (0.36.2)\n",
            "Requirement already satisfied: rpds-py>=0.7.1 in /usr/local/lib/python3.11/dist-packages (from jsonschema>=3.0->altair<6,>=4.0->streamlit) (0.24.0)\n",
            "Requirement already satisfied: six>=1.5 in /usr/local/lib/python3.11/dist-packages (from python-dateutil>=2.8.2->pandas<3,>=1.4.0->streamlit) (1.17.0)\n"
          ]
        }
      ]
    },
    {
      "cell_type": "code",
      "source": [
        "# %%writefile app.py\n",
        "# import streamlit as st\n",
        "# import pandas as pd\n",
        "# from sklearn.preprocessing import LabelEncoder\n",
        "\n",
        "# df = pd.read_csv(\"youtube_khan_academy.csv\")\n",
        "\n",
        "# topic_column = 'title'\n",
        "# le = LabelEncoder()\n",
        "# df['topic_encoded'] = le.fit_transform(df[topic_column])\n",
        "\n",
        "# st.title(\"📚 AI-Based Personalized Learning Platform\")\n",
        "# user_topic = st.text_input(\"🔍 Enter a learning topic (video title):\")\n",
        "\n",
        "# if user_topic:\n",
        "#     try:\n",
        "#         encoded = le.transform([user_topic])[0]\n",
        "#         st.success(f\"✅ Encoded topic: {encoded}\")\n",
        "#         recommended = df[df['topic_encoded'] == encoded].head(5)\n",
        "#         st.write(\"🎯 Recommended videos:\")\n",
        "#         for title in recommended['title']:\n",
        "#             st.markdown(f\"- {title}\")\n",
        "#     except ValueError:\n",
        "#         st.error(\"⚠️ Topic not seen in training data. Try a different title.\")\n"
      ],
      "metadata": {
        "id": "i7C2dg7Ggoy6"
      },
      "execution_count": null,
      "outputs": []
    },
    {
      "cell_type": "code",
      "source": [
        "#!2vVAEnQvYMgEWL4kswnZGSOUeSl_3Yoqece2RAUYwT5N4BJ3F"
      ],
      "metadata": {
        "id": "Mr5hTx23grFC"
      },
      "execution_count": null,
      "outputs": []
    },
    {
      "cell_type": "code",
      "source": [
        "#from pyngrok import ngrok\n",
        "#import threading\n",
        "#import os\n",
        "#import time\n",
        "\n",
        "#def run():\n",
        " #   os.system(\"streamlit run app.py\")\n",
        "\n",
        "#threading.Thread(target=run).start()\n",
        "#time.sleep(5)  # wait a few seconds\n",
        "\n",
        "#public_url = ngrok.connect(8501)\n",
        "#print(f\"🌐 Open your app here:\\n{public_url}\")\n",
        "\n"
      ],
      "metadata": {
        "id": "kOJN4EuWgvdo"
      },
      "execution_count": null,
      "outputs": []
    },
    {
      "cell_type": "code",
      "source": [
        "#!cat /root/.streamlit/logs/*.log | tail -n 30\n"
      ],
      "metadata": {
        "id": "QCh3h5DSgySd"
      },
      "execution_count": null,
      "outputs": []
    },
    {
      "cell_type": "markdown",
      "source": [
        "##**Streamlit App (Basic UI)**"
      ],
      "metadata": {
        "id": "r54ygMhU8MZu"
      }
    },
    {
      "cell_type": "code",
      "source": [
        "# Importing necessary libraries\n",
        "import streamlit as st\n",
        "import pandas as pd\n",
        "from sklearn.preprocessing import LabelEncoder\n",
        "\n",
        "# Load the dataset (ensure the path is correct)\n",
        "df = pd.read_csv(\"/content/youtube_khan_academy.csv\")\n",
        "\n",
        "# Assuming 'title' is the column for video titles\n",
        "topic_column = 'title'\n",
        "\n",
        "# Label Encoding for the video titles\n",
        "le = LabelEncoder()\n",
        "df['topic_encoded'] = le.fit_transform(df[topic_column])\n",
        "\n",
        "# Streamlit App Title\n",
        "st.title(\"📚 AI-Based Personalized Learning Platform\")\n",
        "\n",
        "# User input for video title\n",
        "user_topic = st.text_input(\"🔍 Enter a learning topic (video title):\")\n",
        "\n",
        "# When user inputs a topic, this block runs\n",
        "if user_topic:\n",
        "    try:\n",
        "        # Encoding the input title\n",
        "        encoded = le.transform([user_topic])[0]\n",
        "        st.success(f\"✅ Encoded topic: {encoded}\")\n",
        "\n",
        "        # Getting recommended videos based on encoded title\n",
        "        recommended = df[df['topic_encoded'] == encoded].head(5)\n",
        "\n",
        "        # Displaying the recommended videos\n",
        "        st.write(\"🎯 Recommended videos:\")\n",
        "\n",
        "        for index, row in recommended.iterrows():\n",
        "            title = row['title']\n",
        "            video_url = row.get('url', '')  # Ensure CSV has 'url' column\n",
        "\n",
        "            # Check if the URL exists and is valid\n",
        "            if pd.notna(video_url) and video_url != '':\n",
        "                st.markdown(f\"- [{title}]({video_url})\")  # Link the title to the URL\n",
        "            else:\n",
        "                st.markdown(f\"- {title} (No URL available)\")  # If no URL is available\n",
        "\n",
        "    except ValueError:\n",
        "        # If the title is not found in the encoding\n",
        "        st.error(\"⚠️ Topic not seen in training data. Try a different title.\")\n"
      ],
      "metadata": {
        "id": "OmHcSepOg0dx",
        "colab": {
          "base_uri": "https://localhost:8080/"
        },
        "outputId": "ab902737-c1c4-46d0-dcdd-9e08fdd8e9ea"
      },
      "execution_count": null,
      "outputs": [
        {
          "output_type": "stream",
          "name": "stderr",
          "text": [
            "2025-04-10 18:27:31.848 WARNING streamlit.runtime.scriptrunner_utils.script_run_context: Thread 'MainThread': missing ScriptRunContext! This warning can be ignored when running in bare mode.\n",
            "2025-04-10 18:27:31.993 \n",
            "  \u001b[33m\u001b[1mWarning:\u001b[0m to view this Streamlit app on a browser, run it with the following\n",
            "  command:\n",
            "\n",
            "    streamlit run /usr/local/lib/python3.11/dist-packages/colab_kernel_launcher.py [ARGUMENTS]\n",
            "2025-04-10 18:27:31.994 Thread 'MainThread': missing ScriptRunContext! This warning can be ignored when running in bare mode.\n",
            "2025-04-10 18:27:31.997 Thread 'MainThread': missing ScriptRunContext! This warning can be ignored when running in bare mode.\n",
            "2025-04-10 18:27:31.998 Thread 'MainThread': missing ScriptRunContext! This warning can be ignored when running in bare mode.\n",
            "2025-04-10 18:27:31.999 Thread 'MainThread': missing ScriptRunContext! This warning can be ignored when running in bare mode.\n",
            "2025-04-10 18:27:32.000 Thread 'MainThread': missing ScriptRunContext! This warning can be ignored when running in bare mode.\n",
            "2025-04-10 18:27:32.000 Session state does not function when running a script without `streamlit run`\n",
            "2025-04-10 18:27:32.001 Thread 'MainThread': missing ScriptRunContext! This warning can be ignored when running in bare mode.\n",
            "2025-04-10 18:27:32.005 Thread 'MainThread': missing ScriptRunContext! This warning can be ignored when running in bare mode.\n"
          ]
        }
      ]
    },
    {
      "cell_type": "markdown",
      "source": [
        "##**Generate Public Link with Ngrok**"
      ],
      "metadata": {
        "id": "CrzqRBTc734f"
      }
    },
    {
      "cell_type": "code",
      "source": [
        "# Importing necessary libraries\n",
        "from pyngrok import ngrok\n",
        "import threading\n",
        "import os\n",
        "import time\n",
        "\n",
        "# Function to run Streamlit in a separate thread\n",
        "def run():\n",
        "    os.system(\"streamlit run app.py\")\n",
        "\n",
        "# Starting the Streamlit app in a separate thread\n",
        "threading.Thread(target=run).start()\n",
        "\n",
        "# Wait a few seconds for Streamlit to start\n",
        "time.sleep(5)\n",
        "\n",
        "# Create a public URL using ngrok\n",
        "public_url = ngrok.connect(8501)\n",
        "\n",
        "# Print the public URL where you can access the app\n",
        "print(f\"🌐 Open your app here:\\n{public_url}\")\n"
      ],
      "metadata": {
        "colab": {
          "base_uri": "https://localhost:8080/"
        },
        "id": "EYQRtkYqqtbl",
        "outputId": "00ba423b-599b-430f-df7d-05fc1e542025"
      },
      "execution_count": null,
      "outputs": [
        {
          "output_type": "stream",
          "name": "stdout",
          "text": [
            "🌐 Open your app here:\n",
            "NgrokTunnel: \"https://eefc-34-118-242-27.ngrok-free.app\" -> \"http://localhost:8501\"\n"
          ]
        }
      ]
    },
    {
      "cell_type": "markdown",
      "source": [
        "Automatically starts Streamlit and exposes it via a public URL using ngrok.\n",
        "\n"
      ],
      "metadata": {
        "id": "3pQnIFzO79lY"
      }
    },
    {
      "cell_type": "code",
      "source": [
        "!cat /root/.streamlit/logs/*.log | tail -n 30\n"
      ],
      "metadata": {
        "colab": {
          "base_uri": "https://localhost:8080/"
        },
        "id": "K7eRhL4Zqy1U",
        "outputId": "01c80d76-c591-4210-9509-e796cdccaf12"
      },
      "execution_count": null,
      "outputs": [
        {
          "output_type": "stream",
          "name": "stdout",
          "text": [
            "cat: '/root/.streamlit/logs/*.log': No such file or directory\n"
          ]
        }
      ]
    },
    {
      "cell_type": "code",
      "source": [],
      "metadata": {
        "id": "MEf7hpShsaOr"
      },
      "execution_count": null,
      "outputs": []
    },
    {
      "cell_type": "code",
      "source": [],
      "metadata": {
        "id": "8Pc4LDdwsdkq"
      },
      "execution_count": null,
      "outputs": []
    }
  ]
}